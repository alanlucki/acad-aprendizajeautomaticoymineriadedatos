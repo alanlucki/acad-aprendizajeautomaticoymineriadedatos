{
 "cells": [
  {
   "cell_type": "code",
   "execution_count": 1,
   "metadata": {
    "tags": []
   },
   "outputs": [
    {
     "name": "stdout",
     "output_type": "stream",
     "text": [
      "2021-03-22 13:36:37.367342\n"
     ]
    }
   ],
   "source": [
    "from datetime import date\n",
    "from datetime import datetime\n",
    "import time\n",
    "import requests\n",
    "import os\n",
    "def ahora():\n",
    "    now = datetime.now()\n",
    "    print( now ) \n",
    "ahora()"
   ]
  },
  {
   "cell_type": "code",
   "execution_count": 2,
<<<<<<< HEAD
=======
   "id": "twenty-compact",
>>>>>>> dc657e59550369cdaa6e8edd3929f0229ef35778
   "metadata": {
    "tags": []
   },
   "outputs": [
    {
     "name": "stdout",
     "output_type": "stream",
     "text": [
      "2021-03-22 13:36:37.389546\n"
     ]
    }
   ],
   "source": [
    "def datetime_to_int(dt):\n",
    "    return int(dt.strftime(\"%Y%m%d%H%M%S\"))\n",
    "\n",
    "def int_to_datetime(num):\n",
    "    year = int(num / 10000000000000000)\n",
    "    num = num - year * 10000000000000000\n",
    "    month = int(num / 100000000000000)\n",
    "    num = num - month * 100000000000000\n",
    "    day = int(num / 1000000000000)\n",
    "    num = num - day * 1000000000000\n",
    "    hour = int(num / 10000000000)\n",
    "    num = num - hour * 10000000000\n",
    "    minu =  int(num / 100000000)\n",
    "    num = num - minu * 100000000\n",
    "    second =  int(num / 1000000)\n",
    "    return datetime(year,month,day,hour,minu,second)\n",
    "ahora()"
   ]
  },
  {
   "cell_type": "code",
   "execution_count": 3,
<<<<<<< HEAD
=======
   "id": "unable-conviction",
>>>>>>> dc657e59550369cdaa6e8edd3929f0229ef35778
   "metadata": {},
   "outputs": [
    {
     "name": "stdout",
     "output_type": "stream",
     "text": [
      "2021-03-22 13:36:37.404506\n"
     ]
    }
   ],
   "source": [
    "def downloadStream():\n",
    "    print('downloadStream')\n",
    "    print('==============')\n",
    "    now = datetime.now()\n",
    "    stream_url = 'https://18493.live.streamtheworld.com/RADIO_RPP.mp3'\n",
    "    r = requests.get(stream_url, stream=True)\n",
    "    contador = 0\n",
    "    with open('stream.mp3', 'wb') as f:\n",
    "        try:\n",
    "            for block in r.iter_content(1000*60):\n",
    "                f.write(block)\n",
    "                contador = contador + 1\n",
    "                print(contador)\n",
    "                if contador == 6 : break\n",
    "                \n",
    "        except KeyboardInterrupt:\n",
    "            pass\n",
    "    convertirMp3toWav(now)\n",
    "ahora()"
   ]
  },
  {
   "cell_type": "code",
   "execution_count": 4,
<<<<<<< HEAD
=======
   "id": "gentle-above",
>>>>>>> dc657e59550369cdaa6e8edd3929f0229ef35778
   "metadata": {},
   "outputs": [
    {
     "name": "stdout",
     "output_type": "stream",
     "text": [
      "2021-03-22 13:36:37.414481\n"
     ]
    }
   ],
   "source": [
    "def convertirMp3toWav(x):\n",
    "    print('convertirMp3toWav')\n",
    "    print('=================')\n",
    "    import datetime\n",
    "    inicio = x\n",
    "    import os\n",
    "    for i in range(60):       \n",
    "        \n",
    "        inicio = inicio + datetime.timedelta(seconds=1)\n",
    "        resultado = os.system(str('ffmpeg  -ss 00:00:'+ str(i) +' -t 00:00:01 -i stream.mp3 -acodec pcm_u8 -ar 22050 {}.wav').format( './wav/' + str( datetime_to_int(inicio) ) ) )\n",
    "        #print(i , ' - ' , resultado)\n",
    "ahora()"
   ]
  },
  {
   "cell_type": "code",
   "execution_count": 5,
<<<<<<< HEAD
   "metadata": {},
   "outputs": [],
=======
   "id": "amateur-workstation",
   "metadata": {},
   "outputs": [
    {
     "name": "stdout",
     "output_type": "stream",
     "text": [
      "2021-03-22 13:36:37.428442\n",
      "downloadStream\n",
      "==============\n",
      "1\n",
      "2\n",
      "3\n",
      "4\n",
      "5\n",
      "6\n",
      "convertirMp3toWav\n",
      "=================\n",
      "2021-03-22 13:37:33.004369\n"
     ]
    }
   ],
>>>>>>> dc657e59550369cdaa6e8edd3929f0229ef35778
   "source": [
    "ahora()\n",
    "downloadStream()\n",
    "ahora()"
   ]
  },
  {
   "cell_type": "code",
   "execution_count": null,
<<<<<<< HEAD
   "metadata": {},
   "outputs": [],
   "source": [
    "\n"
   ]
=======
   "id": "selected-florence",
   "metadata": {},
   "outputs": [],
   "source": []
>>>>>>> dc657e59550369cdaa6e8edd3929f0229ef35778
  }
 ],
 "metadata": {
  "kernelspec": {
   "display_name": "Python 3",
   "language": "python",
   "name": "python3"
  },
  "language_info": {
   "codemirror_mode": {
    "name": "ipython",
    "version": 3
   },
   "file_extension": ".py",
   "mimetype": "text/x-python",
   "name": "python",
   "nbconvert_exporter": "python",
   "pygments_lexer": "ipython3",
   "version": "3.8.5"
  }
 },
 "nbformat": 4,
 "nbformat_minor": 5
}
