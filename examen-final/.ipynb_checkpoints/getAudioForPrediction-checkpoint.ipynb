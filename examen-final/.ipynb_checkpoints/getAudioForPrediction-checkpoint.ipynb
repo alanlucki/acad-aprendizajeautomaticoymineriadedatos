{
 "cells": [
  {
   "cell_type": "code",
   "execution_count": 1,
   "id": "second-bride",
   "metadata": {
    "tags": []
   },
   "outputs": [],
   "source": [
    "from datetime import date\n",
    "from datetime import datetime\n",
    "import time\n",
    "import requests\n",
    "import os\n",
    "def ahora():\n",
    "    now = datetime.now()\n",
    "    print( now ) \n"
   ]
  },
  {
   "cell_type": "code",
   "execution_count": 2,
   "id": "baking-still",
   "metadata": {
    "tags": []
   },
   "outputs": [],
   "source": [
    "def datetime_to_int(dt):\n",
    "    return int(dt.strftime(\"%Y%m%d%H%M%S\"))\n",
    "\n",
    "def int_to_datetime(num):\n",
    "    year = int(num / 10000000000000000)\n",
    "    num = num - year * 10000000000000000\n",
    "    month = int(num / 100000000000000)\n",
    "    num = num - month * 100000000000000\n",
    "    day = int(num / 1000000000000)\n",
    "    num = num - day * 1000000000000\n",
    "    hour = int(num / 10000000000)\n",
    "    num = num - hour * 10000000000\n",
    "    minu =  int(num / 100000000)\n",
    "    num = num - minu * 100000000\n",
    "    second =  int(num / 1000000)\n",
    "    return datetime(year,month,day,hour,minu,second)\n"
   ]
  },
  {
   "cell_type": "code",
   "execution_count": 3,
   "id": "accomplished-hands",
   "metadata": {},
   "outputs": [],
   "source": [
    "def downloadStream():\n",
    "    now = datetime.now()\n",
    "    stream_url = 'https://18493.live.streamtheworld.com/RADIO_RPP.mp3'\n",
    "    r = requests.get(stream_url, stream=True)\n",
    "    contador = 0\n",
    "    with open('stream.mp3', 'wb') as f:\n",
    "        try:\n",
    "            for block in r.iter_content(1000*60):\n",
    "                f.write(block)\n",
    "                contador = contador + 1\n",
    "                if contador == 6 : break\n",
    "                \n",
    "        except KeyboardInterrupt:\n",
    "            pass\n",
    "    convertirMp3toWav(now)"
   ]
  },
  {
   "cell_type": "code",
   "execution_count": 4,
   "id": "molecular-manchester",
   "metadata": {},
   "outputs": [],
   "source": [
    "def convertirMp3toWav(x):\n",
    "    import datetime\n",
    "    inicio = x\n",
    "    import os\n",
    "    for i in range(60):        \n",
    "        inicio = inicio + datetime.timedelta(seconds=1)\n",
    "        os.system(str('ffmpeg  -ss 00:00:'+ str(i) +' -t 00:00:01 -i stream.mp3 -acodec pcm_u8 -ar 22050 {}.wav').format( './wav/' + str( datetime_to_int(inicio) ) ) )"
   ]
  },
  {
   "cell_type": "code",
   "execution_count": 5,
   "id": "fewer-trustee",
   "metadata": {},
   "outputs": [
    {
     "name": "stdout",
     "output_type": "stream",
     "text": [
      "1\n",
      "2\n",
      "3\n",
      "4\n",
      "5\n",
      "6\n"
     ]
    }
   ],
   "source": [
    "downloadStream()"
   ]
  }
 ],
 "metadata": {
  "kernelspec": {
   "display_name": "Python 3",
   "language": "python",
   "name": "python3"
  },
  "language_info": {
   "codemirror_mode": {
    "name": "ipython",
    "version": 3
   },
   "file_extension": ".py",
   "mimetype": "text/x-python",
   "name": "python",
   "nbconvert_exporter": "python",
   "pygments_lexer": "ipython3",
   "version": "3.8.8"
  }
 },
 "nbformat": 4,
 "nbformat_minor": 5
}
