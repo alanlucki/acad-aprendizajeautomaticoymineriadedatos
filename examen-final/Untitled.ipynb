{
 "cells": [
  {
   "cell_type": "code",
   "execution_count": 1,
   "id": "continental-ottawa",
   "metadata": {
    "tags": []
   },
   "outputs": [],
   "source": [
    "from datetime import date\n",
    "from datetime import datetime\n",
    "import time\n",
    "import requests\n",
    "import os\n",
    "def ahora():\n",
    "    now = datetime.now()\n",
    "    print( now ) \n"
   ]
  },
  {
   "cell_type": "code",
   "execution_count": 2,
   "id": "ideal-greensboro",
   "metadata": {
    "jupyter": {
     "source_hidden": true
    },
    "tags": []
   },
   "outputs": [],
   "source": [
    "def datetime_to_int(dt):\n",
    "    return int(dt.strftime(\"%Y%m%d%H%M%S%f\"))\n",
    "\n",
    "def int_to_datetime(num):\n",
    "    year = int(num / 10000000000000000)\n",
    "    num = num - year * 10000000000000000\n",
    "    month = int(num / 100000000000000)\n",
    "    num = num - month * 100000000000000\n",
    "    day = int(num / 1000000000000)\n",
    "    num = num - day * 1000000000000\n",
    "    hour = int(num / 10000000000)\n",
    "    num = num - hour * 10000000000\n",
    "    minu =  int(num / 100000000)\n",
    "    num = num - minu * 100000000\n",
    "    second =  int(num / 1000000)\n",
    "    return datetime(year,month,day,hour,minu,second)\n"
   ]
  },
  {
   "cell_type": "code",
   "execution_count": 3,
   "id": "backed-module",
   "metadata": {},
   "outputs": [],
   "source": [
    "def downloadStream():\n",
    "    stream_url = 'https://18493.live.streamtheworld.com/RADIO_RPP.mp3'\n",
    "    r = requests.get(stream_url, stream=True)\n",
    "    contador = 0\n",
    "    with open('stream.mp3', 'wb') as f:\n",
    "        try:\n",
    "            for block in r.iter_content(1000*60):\n",
    "                f.write(block)\n",
    "                contador = contador + 1\n",
    "                print( contador )\n",
    "                if contador == 6 : break\n",
    "                \n",
    "        except KeyboardInterrupt:\n",
    "            pass\n",
    "    convertirMp3toWav()"
   ]
  },
  {
   "cell_type": "code",
   "execution_count": 4,
   "id": "awful-gregory",
   "metadata": {},
   "outputs": [],
   "source": [
    "def convertirMp3toWav():\n",
    "    \n",
    "    inicio = datetime.now()\n",
    "    \n",
    "    from os import path\n",
    "    from pydub import AudioSegment\n",
    "\n",
    "    src = \"stream.mp3\"\n",
    "    dst = \"./wav/\" + str(datetime_to_int(inicio)) +\".wav\"\n",
    "\n",
    "    # convert wav to mp3                                                            \n",
    "    sound = AudioSegment.from_mp3(src)\n",
    "    sound.export(dst, format=\"wav\")"
   ]
  },
  {
   "cell_type": "code",
   "execution_count": 5,
   "id": "surprising-packet",
   "metadata": {},
   "outputs": [
    {
     "name": "stdout",
     "output_type": "stream",
     "text": [
      "2021-03-22 01:25:05.179452\n",
      "1\n",
      "2\n",
      "3\n",
      "4\n",
      "5\n",
      "6\n",
      "2021-03-22 01:25:56.996217\n"
     ]
    }
   ],
   "source": [
    "ahora()\n",
    "downloadStream()\n",
    "ahora()   "
   ]
  },
  {
   "cell_type": "code",
   "execution_count": 17,
   "id": "quick-soundtrack",
   "metadata": {},
   "outputs": [],
   "source": [
    "import os\n",
    "convertFile = lambda x:os.system('ffmpeg  -ss 00:00:00 -t 00:00:10 -i {} -acodec pcm_u8 -ar 22050 20210322012556880909.wav'.format('./20210322012556880909.wav', 'test' ) ) \n",
    "#convertFile = lambda x:os.system('ffmpeg  -ss 00:00:00 -t 00:00:10 -i {} -acodec pcm_s16le -ar 44000 {}.wav'.format('./wav/20210322012556880909' + x + '.wav', x ) ) \n",
    "#ffmpeg -i song.mp3 -acodec pcm_u8 -ar 22050 song.wav"
   ]
  },
  {
   "cell_type": "code",
   "execution_count": 19,
   "id": "usual-coast",
   "metadata": {},
   "outputs": [
    {
     "data": {
      "text/plain": [
       "256"
      ]
     },
     "execution_count": 19,
     "metadata": {},
     "output_type": "execute_result"
    }
   ],
   "source": [
    "convertFile('test')"
   ]
  },
  {
   "cell_type": "code",
   "execution_count": null,
   "id": "marked-shuttle",
   "metadata": {},
   "outputs": [],
   "source": [
    "ffmpeg  -ss 00:00:00 -t 00:00:10 -i '20210322012556880909.wav' -acodec pcm_u8 -ar 22050 'test.wav'"
   ]
  },
  {
   "cell_type": "code",
   "execution_count": null,
   "id": "atmospheric-indication",
   "metadata": {},
   "outputs": [],
   "source": []
  }
 ],
 "metadata": {
  "kernelspec": {
   "display_name": "Python 3",
   "language": "python",
   "name": "python3"
  },
  "language_info": {
   "codemirror_mode": {
    "name": "ipython",
    "version": 3
   },
   "file_extension": ".py",
   "mimetype": "text/x-python",
   "name": "python",
   "nbconvert_exporter": "python",
   "pygments_lexer": "ipython3",
   "version": "3.8.8"
  }
 },
 "nbformat": 4,
 "nbformat_minor": 5
}
